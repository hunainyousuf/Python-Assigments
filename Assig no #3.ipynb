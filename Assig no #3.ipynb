{
 "cells": [
  {
   "cell_type": "code",
   "execution_count": 3,
   "metadata": {},
   "outputs": [
    {
     "name": "stdout",
     "output_type": "stream",
     "text": [
      "Enter your  first value 4\n",
      "Enter your second value 4\n",
      "Enter operator \n",
      "Enter correct operator\n"
     ]
    }
   ],
   "source": [
    "#Make a calculator\n",
    "\n",
    "val1= int(input(\"Enter your  first value \"))\n",
    "val2= int(input(\"Enter your second value \"))\n",
    "operator =input(\"Enter operator \")\n",
    "if operator == '+':\n",
    "          val=val1 + val2\n",
    "          print(val , 'answer')\n",
    "elif operator =='-' :\n",
    "          val=val1 - val2\n",
    "          print(val , 'answer')\n",
    "elif operator =='*' :\n",
    "          val=val1 * val2\n",
    "          print(val , 'answer')\n",
    "elif operator == '/' :\n",
    "          val=val1 / val2\n",
    "          print(val , 'answer')\n",
    "elif operator == '**' :\n",
    "          val=val1**val2\n",
    "          print(val , 'answer')\n",
    "        \n",
    "else:\n",
    "    print(\"Enter correct operator\")"
   ]
  },
  {
   "cell_type": "code",
   "execution_count": 25,
   "metadata": {},
   "outputs": [
    {
     "name": "stdout",
     "output_type": "stream",
     "text": [
      "Current dir is {'first name': 'hunain', 'last name': 'yousuf'}\n",
      "Update direct is {'first name': 'hunain', 'last name': 'yousuf', 'sir name': 'lusia'}\n"
     ]
    }
   ],
   "source": [
    "#Write a Python script to add a key to a dictionary\n",
    "\n",
    "direct={\"first name\":\"hunain\" , \"last name\":\"yousuf\"}\n",
    "print(\"Current dir is\" ,direct)\n",
    "direct [\"sir name\"] = 'lusia'\n",
    "print(\"Update direct is\" ,direct)"
   ]
  },
  {
   "cell_type": "code",
   "execution_count": 31,
   "metadata": {},
   "outputs": [
    {
     "name": "stdout",
     "output_type": "stream",
     "text": [
      "List contain numeric value\n"
     ]
    }
   ],
   "source": [
    "#Write a program to check if there is any numeric value in list using for loop\n",
    "list_1=['1','Apple','2','3','3','Banana', \"Ali\"]\n",
    "for b in list_1:\n",
    "    a = i.isnumeric()\n",
    "    if a == True:\n",
    "        print(\"List contain numeric value\")\n",
    "        break\n",
    "    else:\n",
    "        print(\"List not contain any numeric value\")\n",
    "        break\n",
    "        "
   ]
  },
  {
   "cell_type": "code",
   "execution_count": 32,
   "metadata": {},
   "outputs": [
    {
     "name": "stdout",
     "output_type": "stream",
     "text": [
      "{'Banana', 'Apple', 'Ali', '2', '1', '3'}\n"
     ]
    }
   ],
   "source": []
  },
  {
   "cell_type": "code",
   "execution_count": 36,
   "metadata": {},
   "outputs": [
    {
     "name": "stdout",
     "output_type": "stream",
     "text": [
      "{3, 4, 5, 40, 10, 80, 50, 20, 60, 30}\n"
     ]
    }
   ],
   "source": [
    "#Write a program to identify duplicate values from list\n",
    "a = [3,4,3,5,5,3,10,20,30,20,10,50,60,40,80,50,40]\n",
    "\n",
    "duplicate_items = set()\n",
    "uniq_items = []\n",
    "for x in a:\n",
    "    if x not in duplicate_items:\n",
    "        uniq_items.append(x)\n",
    "        duplicate_items.add(x)\n",
    "\n",
    "print(duplicate_items)"
   ]
  },
  {
   "cell_type": "code",
   "execution_count": 42,
   "metadata": {},
   "outputs": [
    {
     "name": "stdout",
     "output_type": "stream",
     "text": [
      "ENTER THE KEY = shizza\n",
      "Key is present in the dictionary\n"
     ]
    }
   ],
   "source": [
    "#Write a Python script to check if a given key already exists in a dictionary\n",
    "\n",
    "dictionary = {\"shahbaz\" : \"loin\" , \"shizza\" : \"cat\" , \"ali\" : \"good boy\" , \"rimsha\" : \"bad girl\" , \"shah\" : \"hunain\"}\n",
    "x = input(\"ENTER THE KEY = \")\n",
    "\n",
    "if x in dictionary:\n",
    "      print('Key is present in the dictionary')\n",
    "else:\n",
    "      print('Key is not present in the dictionary')"
   ]
  },
  {
   "cell_type": "code",
   "execution_count": null,
   "metadata": {},
   "outputs": [],
   "source": []
  }
 ],
 "metadata": {
  "kernelspec": {
   "display_name": "Python 3",
   "language": "python",
   "name": "python3"
  },
  "language_info": {
   "codemirror_mode": {
    "name": "ipython",
    "version": 3
   },
   "file_extension": ".py",
   "mimetype": "text/x-python",
   "name": "python",
   "nbconvert_exporter": "python",
   "pygments_lexer": "ipython3",
   "version": "3.7.4"
  }
 },
 "nbformat": 4,
 "nbformat_minor": 2
}
