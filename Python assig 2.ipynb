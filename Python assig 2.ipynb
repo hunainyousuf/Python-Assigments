{
 "cells": [
  {
   "cell_type": "code",
   "execution_count": 29,
   "metadata": {},
   "outputs": [
    {
     "name": "stdout",
     "output_type": "stream",
     "text": [
      "Enter obtain marks in urdu 60\n",
      "Enter obtain marks in english 56\n",
      "Enter obtain marks in math 66\n",
      "Enter obtain marks in sindhi77\n",
      "Enter obtain marks in isl 66\n",
      "Obtain marks in urdu 60 Out of 100\n",
      "Obtain marks in english 56 Out of 100\n",
      "Obtain marks in sindhi 77 Out of 100\n",
      "Obtain marks in isl 66 Out of 100\n",
      "total marks : out of 500 is\n",
      "total_marks_obtained 325\n",
      "percentage  65.0\n",
      "Grade B\n"
     ]
    }
   ],
   "source": [
    "\n",
    "#Input from user of obtain marks\n",
    "\n",
    "urdu = int(input(\"Enter obtain marks in urdu \" , ));\n",
    "english = int(input(\"Enter obtain marks in english \"));\n",
    "math = int(input(\"Enter obtain marks in math \"));\n",
    "sindhi = int(input(\"Enter obtain marks in sindhi\"));\n",
    "isl = int(input(\"Enter obtain marks in isl \"));\n",
    "\n",
    "#Out from user of obtain marks\n",
    "\n",
    "print (\"Obtain marks in urdu\" , urdu , \"Out of 100\" )\n",
    "print (\"Obtain marks in english\" , english ,\"Out of 100\" )\n",
    "print (\"Obtain marks in sindhi\" , sindhi , \"Out of 100\" )\n",
    "print (\"Obtain marks in isl\" , isl , \"Out of 100\" )\n",
    "\n",
    "#total marks\n",
    "\n",
    "print(\"total marks : out of 500 is\")\n",
    "total_marks_obtained=(urdu+english+math+sindhi+isl)\n",
    "print(\"total_marks_obtained\" , total_marks_obtained )\n",
    "\n",
    "#percentage\n",
    "\n",
    "percentage=(total_marks_obtained/500)*100\n",
    "print(\"percentage \" , percentage )\n",
    "\n",
    "#grades\n",
    "\n",
    "if percentage>=80:\n",
    "    print(\"Grade A +\")\n",
    "elif percentage>=70:\n",
    "    print(\"Grade A\")\n",
    "elif percentage>=60:\n",
    "    print(\"Grade B\")\n",
    "elif percentage>=50:\n",
    "    print(\"Grade C\")\n",
    "elif percentage>=40:\n",
    "    print(\"Grade c\")\n",
    "else:\n",
    "    print(\"Grade f\")"
   ]
  },
  {
   "cell_type": "code",
   "execution_count": 30,
   "metadata": {},
   "outputs": [
    {
     "name": "stdout",
     "output_type": "stream",
     "text": [
      "Enter a number: 49\n",
      "This is an odd number.\n"
     ]
    }
   ],
   "source": [
    "num = int(input(\"Enter a number: \"))\n",
    "mod = num % 2\n",
    "if mod > 0:\n",
    "    print(\"This is an odd number.\")\n",
    "else:\n",
    "    print(\"This is an even number.\")"
   ]
  },
  {
   "cell_type": "code",
   "execution_count": 35,
   "metadata": {},
   "outputs": [
    {
     "name": "stdout",
     "output_type": "stream",
     "text": [
      "the lenght of list is 6\n"
     ]
    }
   ],
   "source": [
    "n = len([1,2,3,4,5,6])\n",
    "print(\"the lenght of list is\" , n )"
   ]
  },
  {
   "cell_type": "code",
   "execution_count": null,
   "metadata": {},
   "outputs": [],
   "source": []
  }
 ],
 "metadata": {
  "kernelspec": {
   "display_name": "Python 3",
   "language": "python",
   "name": "python3"
  },
  "language_info": {
   "codemirror_mode": {
    "name": "ipython",
    "version": 3
   },
   "file_extension": ".py",
   "mimetype": "text/x-python",
   "name": "python",
   "nbconvert_exporter": "python",
   "pygments_lexer": "ipython3",
   "version": "3.7.4"
  }
 },
 "nbformat": 4,
 "nbformat_minor": 2
}
