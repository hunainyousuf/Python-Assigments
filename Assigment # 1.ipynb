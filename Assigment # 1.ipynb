{
 "cells": [
  {
   "cell_type": "code",
   "execution_count": 1,
   "metadata": {},
   "outputs": [
    {
     "name": "stdout",
     "output_type": "stream",
     "text": [
      "Twinkle, twinkle, little star,\n",
      "        How I wonder what you are! \n",
      "              Up above the world so high,\n",
      "              Like a diamond in the sky.\n",
      "Twinkle, twinkle, little star,\n",
      "        How I wonder what you are!\n"
     ]
    }
   ],
   "source": [
    "#Quetion no 1\n",
    "print('Twinkle, twinkle, little star,')\n",
    "print('        How I wonder what you are! ')\n",
    "print('              Up above the world so high,')\n",
    "print('              Like a diamond in the sky.')\n",
    "print('Twinkle, twinkle, little star,')\n",
    "print('        How I wonder what you are!')"
   ]
  },
  {
   "cell_type": "code",
   "execution_count": 5,
   "metadata": {},
   "outputs": [
    {
     "name": "stdout",
     "output_type": "stream",
     "text": [
      "Python version.\n",
      "3.7.4 (default, Aug  9 2019, 18:34:13) [MSC v.1915 64 bit (AMD64)]\n"
     ]
    }
   ],
   "source": [
    "#Question no 2\n",
    "import sys\n",
    "print( \"Python version.\")\n",
    "print(sys.version)"
   ]
  },
  {
   "cell_type": "code",
   "execution_count": 9,
   "metadata": {},
   "outputs": [
    {
     "name": "stdout",
     "output_type": "stream",
     "text": [
      "06-11-19 20:57:34\n"
     ]
    }
   ],
   "source": [
    "#Question no 3\n",
    "import datetime\n",
    "\n",
    "now = datetime.datetime.now()\n",
    "print(now.strftime(\"%d-%m-%y %H:%M:%S\"))\n"
   ]
  },
  {
   "cell_type": "markdown",
   "metadata": {},
   "source": []
  },
  {
   "cell_type": "code",
   "execution_count": 14,
   "metadata": {},
   "outputs": [
    {
     "name": "stdout",
     "output_type": "stream",
     "text": [
      "Enter your first name: Hunain\n",
      "Enter your last name: Yousuf\n",
      "Your full name is:  Yousuf Hunain\n"
     ]
    }
   ],
   "source": [
    "#Question no 5\n",
    "First_name = input(\"Enter your first name: \")\n",
    "Last_name = input(\"Enter your last name: \")\n",
    "Full_name = Last_name + \" \" + First_name\n",
    "print(\"Your full name is: \",Full_name)"
   ]
  },
  {
   "cell_type": "code",
   "execution_count": 16,
   "metadata": {},
   "outputs": [
    {
     "name": "stdout",
     "output_type": "stream",
     "text": [
      "Enter first no: 5\n",
      "Enter Second no: 5\n",
      "The sum of two value are  10\n"
     ]
    }
   ],
   "source": [
    "#Question no 6\n",
    "First_no = int(input(\"Enter first no: \" ))\n",
    "Second_no = int(input(\"Enter Second no: \"))\n",
    "Total = First_no + Second_no\n",
    "print(\"The sum of two value are \" , Total)"
   ]
  },
  {
   "cell_type": "code",
   "execution_count": null,
   "metadata": {},
   "outputs": [],
   "source": []
  }
 ],
 "metadata": {
  "kernelspec": {
   "display_name": "Python 3",
   "language": "python",
   "name": "python3"
  },
  "language_info": {
   "codemirror_mode": {
    "name": "ipython",
    "version": 3
   },
   "file_extension": ".py",
   "mimetype": "text/x-python",
   "name": "python",
   "nbconvert_exporter": "python",
   "pygments_lexer": "ipython3",
   "version": "3.7.4"
  }
 },
 "nbformat": 4,
 "nbformat_minor": 2
}
