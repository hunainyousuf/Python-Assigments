{
 "cells": [
  {
   "cell_type": "code",
   "execution_count": 1,
   "metadata": {},
   "outputs": [
    {
     "name": "stdout",
     "output_type": "stream",
     "text": [
      "{'first_name': 'hunain', 'last_name': 'yousuf', 'age': '25', 'city': 'karachi'}\n",
      "{'first_name': 'hunain', 'last_name': 'yousuf', 'age': '25', 'city': 'karachi', 'qualification': 'acadmic level'}\n",
      "{'first_name': 'hunain', 'last_name': 'yousuf', 'age': '25', 'city': 'karachi'}\n"
     ]
    }
   ],
   "source": [
    "#Question 1\n",
    "info={\n",
    "    \"first_name\" : \"hunain\", \n",
    "    \"last_name\" : \"yousuf\" ,\n",
    "    \"age\" : \"25\",\n",
    "    \"city\" : \"karachi\" ,\n",
    "    }\n",
    "print(info)\n",
    "info.update({\"qualification\" : \"acadmic level\"})\n",
    "print(info)\n",
    "info.pop(\"qualification\")\n",
    "print(info)"
   ]
  },
  {
   "cell_type": "code",
   "execution_count": 2,
   "metadata": {},
   "outputs": [
    {
     "name": "stdout",
     "output_type": "stream",
     "text": [
      "\n",
      "Gilgit is in Pakistan.\n",
      "  It has a population of about 230292.\n",
      "  The K2 mountains are nearby.\n",
      "\n",
      "Tokyo is in Japan.\n",
      "  It has a population of about 8956000.\n",
      "  The Mount Takao mountains are nearby.\n",
      "\n",
      "Beijing is in China.\n",
      "  It has a population of about 4003285.\n",
      "  The Shangfang mountains are nearby.\n"
     ]
    }
   ],
   "source": [
    "#Question 2\n",
    "cities = {\n",
    "    'gilgit': {\n",
    "        'country': 'pakistan',\n",
    "        'population': 230292,\n",
    "        'nearby mountains': 'k2',\n",
    "        },\n",
    "    'tokyo': {\n",
    "        'country': 'japan',\n",
    "        'population': 8956000,\n",
    "        'nearby mountains': 'mount takao',\n",
    "        },\n",
    "    'beijing': {\n",
    "        'country': 'china',\n",
    "        'population': 4003285,\n",
    "        'nearby mountains': 'shangfang',\n",
    "        }\n",
    "    }\n",
    "\n",
    "for city, city_info in cities.items():\n",
    "    country = city_info['country'].title()\n",
    "    population = city_info['population']\n",
    "    mountains = city_info['nearby mountains'].title()\n",
    "\n",
    "    print(\"\\n\" + city.title() + \" is in \" + country + \".\")\n",
    "    print(\"  It has a population of about \" + str(population) + \".\")\n",
    "    print(\"  The \" + mountains + \" mountains are nearby.\")"
   ]
  },
  {
   "cell_type": "code",
   "execution_count": 3,
   "metadata": {},
   "outputs": [
    {
     "name": "stdout",
     "output_type": "stream",
     "text": [
      "How old are you?\n",
      "Enter 'quit' when you are finished. 23\n",
      "  Your ticket is 15.\n",
      "How old are you?\n",
      "Enter 'quit' when you are finished. 45\n",
      "  Your ticket is 15.\n",
      "How old are you?\n",
      "Enter 'quit' when you are finished. 2\n",
      "  You get in free!\n",
      "How old are you?\n",
      "Enter 'quit' when you are finished. quit\n"
     ]
    }
   ],
   "source": [
    "#Question no3\n",
    "\n",
    "counter = \"How old are you?\"\n",
    "counter += \"\\nEnter 'quit' when you are finished. \"\n",
    "\n",
    "while True:\n",
    "    age = input(counter)\n",
    "    if age == 'quit':\n",
    "        break\n",
    "    age = int(age)\n",
    "\n",
    "    if age < 3:\n",
    "        print(\"  You get in free!\")\n",
    "    elif age < 13:\n",
    "        print(\"  Your ticket is 10.\")\n",
    "    else:\n",
    "        print(\"  Your ticket is 15.\")"
   ]
  },
  {
   "cell_type": "code",
   "execution_count": 4,
   "metadata": {},
   "outputs": [
    {
     "name": "stdout",
     "output_type": "stream",
     "text": [
      "The Abstract Wild is one of my favorite books.\n"
     ]
    }
   ],
   "source": [
    "#Question no 4\n",
    "\n",
    "def favorite_book(title):\n",
    "    \"\"\"Display a message about someone's favorite book.\"\"\"\n",
    "    print(title + \" is one of my favorite books.\")\n",
    "\n",
    "favorite_book('The Abstract Wild')"
   ]
  },
  {
   "cell_type": "code",
   "execution_count": null,
   "metadata": {},
   "outputs": [
    {
     "name": "stdout",
     "output_type": "stream",
     "text": [
      "Guess a number (<30): 50\n",
      "Smaller...\n",
      "You guessed it! The number was 50 in 1 tries\n",
      "Guess a number (<30): 23\n",
      "Greater...\n",
      "You guessed it! The number was 23 in 2 tries\n",
      "Guess a number (<30): 55\n",
      "Smaller...\n",
      "You guessed it! The number was 55 in 3 tries\n",
      "Guess a number (<30): 44\n",
      "Smaller...\n",
      "You guessed it! The number was 44 in 4 tries\n"
     ]
    }
   ],
   "source": [
    "#Question no 4\n",
    "import random\n",
    " \n",
    "secret_number = random.randint(1, 30)\n",
    "tries, guess = 0, 0\n",
    "while guess != secret_number:\n",
    "    guess = int(input(\"Guess a number (<30): \"))\n",
    "    if guess > secret_number:\n",
    "        print(\"Smaller...\")\n",
    "    elif guess < secret_number:\n",
    "        print(\"Greater...\")\n",
    "    tries += 1\n",
    " \n",
    "    print('You guessed it! The number was {} in {} tries'.format(guess, tries))\n"
   ]
  },
  {
   "cell_type": "code",
   "execution_count": null,
   "metadata": {},
   "outputs": [],
   "source": []
  }
 ],
 "metadata": {
  "kernelspec": {
   "display_name": "Python 3",
   "language": "python",
   "name": "python3"
  },
  "language_info": {
   "codemirror_mode": {
    "name": "ipython",
    "version": 3
   },
   "file_extension": ".py",
   "mimetype": "text/x-python",
   "name": "python",
   "nbconvert_exporter": "python",
   "pygments_lexer": "ipython3",
   "version": "3.7.4"
  }
 },
 "nbformat": 4,
 "nbformat_minor": 2
}
